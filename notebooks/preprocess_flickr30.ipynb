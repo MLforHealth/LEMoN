{
 "cells": [
  {
   "cell_type": "code",
   "execution_count": null,
   "id": "b9c0a836",
   "metadata": {},
   "outputs": [],
   "source": [
    "import pandas as pd\n",
    "import numpy as np\n",
    "from pathlib import Path\n",
    "import json\n",
    "import matplotlib.pyplot as plt\n",
    "import spacy\n",
    "from tqdm import tqdm\n",
    "spacy.prefer_gpu()\n",
    "\n",
    "meta_path = Path('/data/healthy-ml/gobi1/data/karpathy_split/dataset_flickr30k.json')\n",
    "root_dir = Path('/data/healthy-ml/gobi1/data/flickr30k/flickr30k_images')\n",
    "\n",
    "nlp = spacy.load(\"en_core_web_trf\")\n",
    "import en_core_web_trf\n",
    "nlp = en_core_web_trf.load()"
   ]
  },
  {
   "cell_type": "code",
   "execution_count": null,
   "id": "43811f69",
   "metadata": {},
   "outputs": [],
   "source": [
    "meta = pd.read_json(meta_path)\n",
    "meta = pd.DataFrame.from_records(meta['images'].values).set_index('imgid')"
   ]
  },
  {
   "cell_type": "code",
   "execution_count": null,
   "id": "1b491ecd",
   "metadata": {},
   "outputs": [],
   "source": [
    "np.random.seed(42)\n",
    "meta['sentence'] = meta['sentences'].apply(lambda x: np.random.choice(x)['raw'])"
   ]
  },
  {
   "cell_type": "code",
   "execution_count": null,
   "id": "e71314ea",
   "metadata": {},
   "outputs": [],
   "source": [
    "meta['spacy_doc'] = [d for d in tqdm(nlp.pipe(meta['sentence'], n_process = 1), total = len(meta))]"
   ]
  },
  {
   "cell_type": "code",
   "execution_count": null,
   "id": "bc4b12e8",
   "metadata": {},
   "outputs": [],
   "source": [
    "def extract_nouns(x):\n",
    "    return [i.text.lower().strip() for i in x if i.pos_ == 'NOUN']\n",
    "\n",
    "def extract_tokens(x):\n",
    "    return [i.text for i in x]\n",
    "\n",
    "meta['nouns'] = meta['spacy_doc'].apply(extract_nouns)\n",
    "meta['tokens'] = meta['spacy_doc'].apply(extract_tokens)"
   ]
  },
  {
   "cell_type": "code",
   "execution_count": null,
   "id": "42d61b83",
   "metadata": {},
   "outputs": [],
   "source": [
    "noun_vocab = tuple(set([j for i in meta['nouns'] for j in i]))\n",
    "noun_vocab_mapping = {i: c for c, i in enumerate(noun_vocab)}"
   ]
  },
  {
   "cell_type": "code",
   "execution_count": null,
   "id": "a6c26fb7",
   "metadata": {},
   "outputs": [],
   "source": [
    "# map nouns to integers; will allow us to compute overlap faster later\n",
    "meta['nouns_int'] = meta['nouns'].apply(lambda x: [noun_vocab_mapping[i] for i in x])"
   ]
  },
  {
   "cell_type": "code",
   "execution_count": null,
   "id": "5ba6476c",
   "metadata": {},
   "outputs": [],
   "source": [
    "meta.drop(columns = ['spacy_doc']).to_pickle(root_dir/'multimodal_mislabel_split.pkl')"
   ]
  }
 ],
 "metadata": {
  "kernelspec": {
   "display_name": "Python 3 (ipykernel)",
   "language": "python",
   "name": "python3"
  },
  "language_info": {
   "codemirror_mode": {
    "name": "ipython",
    "version": 3
   },
   "file_extension": ".py",
   "mimetype": "text/x-python",
   "name": "python",
   "nbconvert_exporter": "python",
   "pygments_lexer": "ipython3",
   "version": "3.9.7"
  }
 },
 "nbformat": 4,
 "nbformat_minor": 5
}
