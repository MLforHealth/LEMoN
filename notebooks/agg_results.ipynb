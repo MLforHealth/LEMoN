{
 "cells": [
  {
   "cell_type": "code",
   "execution_count": null,
   "id": "a563e98e",
   "metadata": {},
   "outputs": [],
   "source": [
    "import numpy as np\n",
    "import pandas as pd\n",
    "from pathlib import Path\n",
    "import os\n",
    "import sys\n",
    "sys.path.append('../')\n",
    "from lib.metrics import utils\n",
    "from scipy.optimize import minimize\n",
    "import json\n",
    "from tqdm import tqdm\n",
    "import pickle\n",
    "import matplotlib.pyplot as plt\n",
    "import seaborn as sns\n",
    "from copy import copy\n",
    "from sklearn.metrics import f1_score\n",
    "\n",
    "root_dir = Path('/data/healthy-ml/scratch/haoran/results/MultimodalDiscordance/results/multimodal_knn_caption/')\n",
    "\n",
    "def condense_dict(k, d):\n",
    "    new_d = {}\n",
    "    for i in d:\n",
    "        if isinstance(d[i], dict):\n",
    "            new_dict = condense_dict(i + '_', d[i])\n",
    "            new_d = {**new_d, **{k + j: new_dict[j] for j in new_dict}}\n",
    "        else:\n",
    "            new_d[k + i] = d[i]\n",
    "    return new_d\n",
    "\n",
    "RELOAD_DF = False"
   ]
  },
  {
   "cell_type": "code",
   "execution_count": null,
   "id": "701af4ea",
   "metadata": {},
   "outputs": [],
   "source": [
    "results, dfs = [], {}\n",
    "if RELOAD_DF or not Path('./all_res_df.pkl').is_file():\n",
    "    for i in tqdm(root_dir.glob('**/done')):\n",
    "        args = json.load((i.parent/'args.json').open('r'))\n",
    "        final_res = pickle.load((i.parent/'res.pkl').open('rb')) \n",
    "        # dfs[args['output_dir']] = final_res['df']\n",
    "        selected_row = condense_dict('', final_res['agg_results'])\n",
    "        row = {**args, **selected_row}\n",
    "        results.append(row)\n",
    "    df = pd.DataFrame(results)\n",
    "    df['output_dir_small'] = df['output_dir'].apply(lambda x: Path(x).name)\n",
    "    df.to_pickle('./all_res_df.pkl')\n",
    "else:\n",
    "    print(\"Loading saved dataframe...\")\n",
    "    df = pd.read_pickle('./all_res_df.pkl')"
   ]
  },
  {
   "cell_type": "code",
   "execution_count": null,
   "id": "2481620b",
   "metadata": {},
   "outputs": [],
   "source": [
    "df = df[(df.ablation == 'none') | ((df.ablation == 'multimodal_baseline') & (df.knn_k == 1))]"
   ]
  },
  {
   "cell_type": "code",
   "execution_count": null,
   "id": "106464a7",
   "metadata": {},
   "outputs": [],
   "source": [
    "SELECTION_METRIC = 'know_val_labels_val_F1_optimal'\n",
    "SELECTION_METHOD = '_'.join(SELECTION_METRIC.split('_')[:3]) if SELECTION_METRIC.startswith('know') else SELECTION_METRIC.split('_')[0]"
   ]
  },
  {
   "cell_type": "code",
   "execution_count": null,
   "id": "65f6cdd5",
   "metadata": {},
   "outputs": [],
   "source": [
    "hparams = ['knn_k', 'dist_type']\n",
    "\n",
    "avg_perfs = (df.groupby(['dataset', 'noise_type', 'noise_level', 'ablation'] + hparams, dropna = False)\n",
    "             .agg(performance = (SELECTION_METRIC, 'mean'))\n",
    "             .reset_index())\n",
    "\n",
    "# get configs with best perfs\n",
    "best_models = (avg_perfs.groupby(['dataset', 'noise_type', 'noise_level', 'ablation'], dropna = False)\n",
    "               .agg(performance = ('performance', 'max'))\n",
    "               .merge(avg_perfs)\n",
    "               .drop_duplicates(subset = ['dataset', 'noise_type', 'noise_level', 'ablation']))\n",
    "\n",
    "# take subset of df with best perfs\n",
    "selected_configs = (\n",
    "    best_models.drop(columns = ['performance'])\n",
    "    .dropna(axis=1, how='all').merge(df)\n",
    ")"
   ]
  },
  {
   "cell_type": "code",
   "execution_count": null,
   "id": "0455269c",
   "metadata": {},
   "outputs": [],
   "source": [
    "examine_metrics = [\n",
    "    'AUROC', 'AUPRC'\n",
    "]\n",
    "\n",
    "if SELECTION_METHOD == 'know_val_labels':\n",
    "    examine_metrics.append('F1_optimal')\n",
    "elif SELECTION_METHOD == 'know_val_prev':\n",
    "    examine_metrics.append('F1_prev')\n",
    "elif SELECTION_METHOD == 'heuristic':\n",
    "    examine_metrics.append('F1_heuristic')\n",
    "\n",
    "temp = (selected_configs[['dataset', 'noise_type', 'noise_level', 'ablation'] + [SELECTION_METHOD + '_test_' + i for i in examine_metrics]\n",
    "                + [SELECTION_METHOD + '_' + i for i in ('beta', 'gamma', 'tau_1_n', 'tau_2_n', 'tau_1_m', 'tau_2_m')] + ['knn_k', 'dist_type', 'output_dir_small']]\n",
    ".rename(columns = {SELECTION_METHOD + '_test_' + i: i for i in examine_metrics})\n",
    ".rename(columns =  {SELECTION_METHOD + '_' + i: i for i in ('beta', 'gamma', 'tau_1_n', 'tau_2_n', 'tau_1_m', 'tau_2_m')})\n",
    " .rename(columns = {'ablation': 'method'})\n",
    ")\n",
    "temp['method'] = temp['method'].map({\n",
    "    'multimodal_baseline': 'CLIP Base',\n",
    "    'none': 'Ours'\n",
    "})\n",
    "\n",
    "group_cols = examine_metrics # [i for i in temp.columns if i not in ['dataset', 'noise_type', 'noise_level', 'method']]\n",
    "\n",
    "temp.groupby(['dataset', 'noise_type', 'noise_level', 'method']).agg({**{i: ['mean','std'] for i in group_cols + ['knn_k']}, **{'dist_type': lambda x: x.iloc[0]}}).sort_index()"
   ]
  }
 ],
 "metadata": {
  "kernelspec": {
   "display_name": "Python 3 (ipykernel)",
   "language": "python",
   "name": "python3"
  },
  "language_info": {
   "codemirror_mode": {
    "name": "ipython",
    "version": 3
   },
   "file_extension": ".py",
   "mimetype": "text/x-python",
   "name": "python",
   "nbconvert_exporter": "python",
   "pygments_lexer": "ipython3",
   "version": "3.9.7"
  }
 },
 "nbformat": 4,
 "nbformat_minor": 5
}
